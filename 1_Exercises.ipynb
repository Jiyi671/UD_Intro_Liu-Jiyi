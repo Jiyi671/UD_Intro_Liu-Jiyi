{
 "cells": [
  {
   "cell_type": "markdown",
   "id": "38e188a5",
   "metadata": {},
   "source": [
    "# Exercise 00\n",
    "Write a piece of code that allocates a list of 20 integers and initializes each element by its index multiplied by 5. Print the result."
   ]
  },
  {
   "cell_type": "code",
   "execution_count": 2,
   "id": "01aa4f35",
   "metadata": {},
   "outputs": [
    {
     "name": "stdout",
     "output_type": "stream",
     "text": [
      "[0, 5, 10, 15, 20, 25, 30, 35, 40, 45, 50, 55, 60, 65, 70, 75, 80, 85, 90, 95]\n"
     ]
    }
   ],
   "source": [
    "int_list = [i * 5 for i in range(20)]\n",
    "print(int_list)"
   ]
  },
  {
   "cell_type": "markdown",
   "id": "529d91ae",
   "metadata": {},
   "source": [
    "# Exercise 01\n",
    "Define a function that takes an integer as input, prints  all integers that it is divisable by, and returns the largest one."
   ]
  },
  {
   "cell_type": "code",
   "execution_count": 5,
   "id": "30e79132",
   "metadata": {},
   "outputs": [
    {
     "name": "stdout",
     "output_type": "stream",
     "text": [
      "Divisors of 90 are: [1, 2, 3, 5, 6, 9, 10, 15, 18, 30, 45, 90]\n",
      "The largest divisor of 90 is: 90\n"
     ]
    }
   ],
   "source": [
    "def find_divisors_and_largest(n):\n",
    "    divisors = []\n",
    "    for i in range(1, n + 1):\n",
    "        if n % i == 0:\n",
    "            divisors.append(i)\n",
    "    print(\"Divisors of\", n, \"are:\", divisors)\n",
    "    return divisors[-1] if divisors else None\n",
    "number = 90\n",
    "largest_divisor = find_divisors_and_largest(number)\n",
    "print(\"The largest divisor of\", number, \"is:\", largest_divisor)"
   ]
  },
  {
   "cell_type": "markdown",
   "id": "cfbe30d4",
   "metadata": {},
   "source": [
    "# Exercise 02\n",
    "- create a dictionary with 6 keys and values of your choice\n",
    "- write a function that takes a dictionary and a value as input and returns whether the value occurs as a key in the dictionary\n",
    "- write a function that takes a dictionary as input, and returns the dictionary but the keys are swapped with their values (resolve the issue if a value occurs twice!)"
   ]
  },
  {
   "cell_type": "code",
   "execution_count": 7,
   "id": "2123f1c6",
   "metadata": {},
   "outputs": [
    {
     "name": "stdout",
     "output_type": "stream",
     "text": [
      "True\n",
      "False\n",
      "{1: 'apple', 2: 'banana', 3: 'cherry', 4: 'date', 5: 'elderberry', 6: 'fig'}\n"
     ]
    }
   ],
   "source": [
    "example_dict = {\n",
    "    \"apple\": 1,\n",
    "    \"banana\": 2,\n",
    "    \"cherry\": 3,\n",
    "    \"date\": 4,\n",
    "    \"elderberry\": 5,\n",
    "    \"fig\": 6\n",
    "}\n",
    "\n",
    "def is_value_a_key(d, value):\n",
    "    return value in d\n",
    "\n",
    "def swap_keys_values(d):\n",
    "    swapped_dict = {}\n",
    "    \n",
    "    for key, value in d.items():\n",
    "        if value not in swapped_dict:  \n",
    "            swapped_dict[value] = key\n",
    "        else:\n",
    "            swapped_dict[value] = f\"{swapped_dict[value]}, {key}\"\n",
    "    \n",
    "    return swapped_dict\n",
    "print(is_value_a_key(example_dict, \"banana\"))  \n",
    "print(is_value_a_key(example_dict, \"grape\"))  \n",
    "\n",
    "swapped = swap_keys_values(example_dict)\n",
    "print(swapped)\n"
   ]
  },
  {
   "cell_type": "markdown",
   "id": "b4b4e426",
   "metadata": {},
   "source": [
    "# Exercise 03\n",
    "Define a function that creates a dictionary of the first n fibonacci numbers as values paired with their indices as keys. "
   ]
  },
  {
   "cell_type": "code",
   "execution_count": 10,
   "id": "7845b5a4",
   "metadata": {},
   "outputs": [
    {
     "name": "stdout",
     "output_type": "stream",
     "text": [
      "{0: 0, 1: 1, 2: 1, 3: 2, 4: 3, 5: 5, 6: 8, 7: 13, 8: 21, 9: 34}\n"
     ]
    }
   ],
   "source": [
    "def fibonacci_dict(n):\n",
    "    fib_dict = {}\n",
    "   \n",
    "    if n <= 0:\n",
    "        return fib_dict\n",
    "    if n >= 1:\n",
    "        fib_dict[0] = 0\n",
    "    if n >= 2:\n",
    "        fib_dict[1] = 1\n",
    "  \n",
    "    for i in range(2, n):\n",
    "        fib_dict[i] = fib_dict[i - 1] + fib_dict[i - 2]\n",
    "    \n",
    "    return fib_dict\n",
    "\n",
    "n = 10\n",
    "fib_numbers = fibonacci_dict(n)\n",
    "print(fib_numbers)\n"
   ]
  },
  {
   "cell_type": "code",
   "execution_count": null,
   "id": "2e087d44-7464-45fa-8683-9f3e49978167",
   "metadata": {},
   "outputs": [],
   "source": []
  }
 ],
 "metadata": {
  "kernelspec": {
   "display_name": "Python 3 (ipykernel)",
   "language": "python",
   "name": "python3"
  },
  "language_info": {
   "codemirror_mode": {
    "name": "ipython",
    "version": 3
   },
   "file_extension": ".py",
   "mimetype": "text/x-python",
   "name": "python",
   "nbconvert_exporter": "python",
   "pygments_lexer": "ipython3",
   "version": "3.12.4"
  }
 },
 "nbformat": 4,
 "nbformat_minor": 5
}
