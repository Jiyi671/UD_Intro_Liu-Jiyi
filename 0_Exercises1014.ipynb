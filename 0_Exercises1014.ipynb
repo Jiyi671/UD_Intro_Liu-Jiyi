{
 "cells": [
  {
   "cell_type": "markdown",
   "id": "529d91ae",
   "metadata": {
    "tags": []
   },
   "source": [
    "# Exercise 00\n",
    "Write a bit of code that prints _Introduction to Programming_ to the console and execute the cell"
   ]
  },
  {
   "cell_type": "code",
   "execution_count": 1,
   "id": "98711beb",
   "metadata": {},
   "outputs": [
    {
     "name": "stdout",
     "output_type": "stream",
     "text": [
      "Introduction to Programming\n"
     ]
    }
   ],
   "source": [
    "# Printing \"Introduction to Programming\" again\n",
    "print(\"Introduction to Programming\")"
   ]
  },
  {
   "cell_type": "markdown",
   "id": "63ad5023",
   "metadata": {},
   "source": [
    "-----------------------------------------------------------------------------\n",
    "# Exercise 01\n",
    "Hello World is traditionally the first program anyone writes. It is\n",
    "very simple and the only thing it should do is print Hello World! to the\n",
    "terminal window.\n",
    "Create a file called HelloWorld.py and edit the contents so it prints Hello World! to the terminal and execute it using the command line."
   ]
  },
  {
   "cell_type": "code",
   "execution_count": 2,
   "id": "22f8e455-df00-425b-ac2d-fd8d38c57e21",
   "metadata": {},
   "outputs": [
    {
     "name": "stdout",
     "output_type": "stream",
     "text": [
      "Hello World!\n"
     ]
    }
   ],
   "source": [
    "print('Hello World!')"
   ]
  },
  {
   "cell_type": "markdown",
   "id": "a4a7c4c2",
   "metadata": {},
   "source": [
    "-----------------------------------------------------------------------------\n",
    "# Exercise 02\n",
    "Write some code to print your name, email, and age on separate lines. For each element first assign it to a variable and use the variable to print. \n",
    "\n",
    "Bonus: try to create the print statement for all variable in one line of code. (hint: '\\n' is the character for a new line)"
   ]
  },
  {
   "cell_type": "code",
   "execution_count": 3,
   "id": "fc8fface",
   "metadata": {},
   "outputs": [
    {
     "name": "stdout",
     "output_type": "stream",
     "text": [
      "Jiyi Liu\n",
      "17872301778@163.com\n",
      "22\n"
     ]
    }
   ],
   "source": [
    "name = \"Jiyi Liu\"\n",
    "email = \"17872301778@163.com\"\n",
    "age = 22\n",
    "\n",
    "print(name + '\\n' + email + '\\n' + str(age)) "
   ]
  },
  {
   "cell_type": "markdown",
   "id": "0dd1c1d1",
   "metadata": {},
   "source": [
    "-----------------------------------------------------------------------------\n",
    "# Exercise 03\n",
    "Print the numbers 0, 178, -21, 2938 divided by 49, 436 multiplied with 9948 and 12 to the power of 20\n",
    "\n",
    "(Hint: Look up the documentation of basic arithmetic operators)"
   ]
  },
  {
   "cell_type": "code",
   "execution_count": 4,
   "id": "f3d5d009",
   "metadata": {},
   "outputs": [
    {
     "name": "stdout",
     "output_type": "stream",
     "text": [
      "0 178 -21 59.95918367346939 4337328 3833759992447475122176\n"
     ]
    }
   ],
   "source": [
    "number1 = 0\n",
    "number2 = 178\n",
    "number3 = -21\n",
    "number4 = 2938 / 49  \n",
    "number5 = 436 * 9948  \n",
    "number6 = 12 ** 20 \n",
    "\n",
    "print(number1, number2, number3, number4, number5, number6)\n"
   ]
  },
  {
   "cell_type": "markdown",
   "id": "1f151455",
   "metadata": {},
   "source": [
    "-----------------------------------------------------------------------------\n",
    "# Exercise 04\n",
    "Print sin(200), cos(100), tan($\\pi$/4)\n",
    "\n",
    "(Hint: Look up for how to use trigonometric function, and how to get the value of $\\pi$.)"
   ]
  },
  {
   "cell_type": "code",
   "execution_count": 5,
   "id": "d0e37690",
   "metadata": {},
   "outputs": [
    {
     "name": "stdout",
     "output_type": "stream",
     "text": [
      "-0.8732972972139946 0.8623188722876839 0.9999999999999999\n"
     ]
    }
   ],
   "source": [
    "import math\n",
    "sin_200 = math.sin(200) \n",
    "cos_100 = math.cos(100) \n",
    "tan_pi_over_4 = math.tan(math.pi / 4)  \n",
    "\n",
    "print(sin_200, cos_100, tan_pi_over_4)\n"
   ]
  },
  {
   "cell_type": "markdown",
   "id": "9d026820",
   "metadata": {},
   "source": [
    "-----------------------------------------------------------------------------\n",
    "# Exercise 05\n",
    "Write a program to read your first and last names from the console seperately, and then print them on the console together, separated by a space."
   ]
  },
  {
   "cell_type": "code",
   "execution_count": null,
   "id": "4c7217e0",
   "metadata": {},
   "outputs": [],
   "source": []
  },
  {
   "cell_type": "markdown",
   "id": "e83fa346",
   "metadata": {},
   "source": [
    "-----------------------------------------------------------------------------\n",
    "# Exercise 06\n",
    "Write a program that determines whether a number given as user input is positive or negative\n",
    " \n",
    "You will need to convert the console input from a string to a number first!"
   ]
  },
  {
   "cell_type": "code",
   "execution_count": 8,
   "id": "ecd924c2",
   "metadata": {},
   "outputs": [
    {
     "name": "stdout",
     "output_type": "stream",
     "text": [
      "Jiyi Liu\n"
     ]
    }
   ],
   "source": [
    "first_name = \"Jiyi\"\n",
    "last_name = \"Liu\"\n",
    "print(first_name + \" \" + last_name)"
   ]
  },
  {
   "cell_type": "markdown",
   "id": "2a192596",
   "metadata": {},
   "source": [
    "-----------------------------------------------------------------------------\n",
    "# Exercise 07\n",
    "Write a program that picks a random number between 1-20 and makes the user guess until they get the number right. Then print a congratulations message\n",
    "- (Find out yourself how to generate a random integer)\n",
    "- Bonus: make the user choose the range within which they have to guess\n",
    "- Bonus: keep track of how many guesses were made and print this at the end"
   ]
  },
  {
   "cell_type": "code",
   "execution_count": 9,
   "id": "70358dd3",
   "metadata": {},
   "outputs": [
    {
     "name": "stdin",
     "output_type": "stream",
     "text": [
      "Enter the lower bound of the guessing range:  2\n",
      "Enter the upper bound of the guessing range:  8\n",
      "Guess a number between 2 and 8:  5\n"
     ]
    },
    {
     "name": "stdout",
     "output_type": "stream",
     "text": [
      "Too high! Try again.\n"
     ]
    },
    {
     "name": "stdin",
     "output_type": "stream",
     "text": [
      "Guess a number between 2 and 8:  2\n"
     ]
    },
    {
     "name": "stdout",
     "output_type": "stream",
     "text": [
      "Too low! Try again.\n"
     ]
    },
    {
     "name": "stdin",
     "output_type": "stream",
     "text": [
      "Guess a number between 2 and 8:  3\n"
     ]
    },
    {
     "name": "stdout",
     "output_type": "stream",
     "text": [
      "Congratulations! You guessed the number 3 in 3 tries.\n"
     ]
    }
   ],
   "source": [
    "import random\n",
    "low = int(input(\"Enter the lower bound of the guessing range: \"))\n",
    "high = int(input(\"Enter the upper bound of the guessing range: \"))\n",
    "random_number = random.randint(low, high)\n",
    "guess_count = 0\n",
    "correct_guess = False\n",
    "while not correct_guess:\n",
    "    guess = int(input(f\"Guess a number between {low} and {high}: \"))\n",
    "    guess_count += 1  # Increment guess count\n",
    "    \n",
    "    if guess < random_number:\n",
    "        print(\"Too low! Try again.\")\n",
    "    elif guess > random_number:\n",
    "        print(\"Too high! Try again.\")\n",
    "    else:\n",
    "        correct_guess = True\n",
    "        print(f\"Congratulations! You guessed the number {random_number} in {guess_count} tries.\")\n"
   ]
  },
  {
   "cell_type": "markdown",
   "id": "d53b9c07",
   "metadata": {},
   "source": [
    "-----------------------------------------------------------------------------\n",
    "# Exercise 08\n",
    "Ask a sentence as input, then print the words in alphabetical order.\n",
    "Hint: look up how to split up a string"
   ]
  },
  {
   "cell_type": "code",
   "execution_count": 11,
   "id": "b6524cf5",
   "metadata": {},
   "outputs": [
    {
     "name": "stdin",
     "output_type": "stream",
     "text": [
      "Please enter a sentence:  hi, my name is Jiyi Liu.\n"
     ]
    },
    {
     "name": "stdout",
     "output_type": "stream",
     "text": [
      "Words in alphabetical order:\n",
      "Jiyi\n",
      "Liu.\n",
      "hi,\n",
      "is\n",
      "my\n",
      "name\n"
     ]
    }
   ],
   "source": [
    "sentence = input(\"Please enter a sentence: \")\n",
    "words = sentence.split()\n",
    "words.sort()\n",
    "print(\"Words in alphabetical order:\")\n",
    "for word in words:\n",
    "    print(word)"
   ]
  },
  {
   "cell_type": "markdown",
   "id": "09a7b060",
   "metadata": {},
   "source": [
    "-----------------------------------------------------------------------------\n",
    "# Exercise 09\n",
    "Write a program using for loops to print a christmas tree of x lines high\n",
    "specified by the user.\n",
    "(use for loops)\n",
    "so for instance, a chrismas tree of 4 high should looks like this:\n",
    "\n",
    "```\n",
    "\n",
    "    *\n",
    "   ***\n",
    "  *****\n",
    " *******\n",
    "    |\n",
    "\n",
    "```\n",
    "\n",
    "hint: first combine strings into a variable before printing"
   ]
  },
  {
   "cell_type": "code",
   "execution_count": 14,
   "id": "5150f7a4",
   "metadata": {},
   "outputs": [
    {
     "name": "stdin",
     "output_type": "stream",
     "text": [
      "Enter the height of the Christmas tree:  40\n"
     ]
    },
    {
     "name": "stdout",
     "output_type": "stream",
     "text": [
      "                                       *\n",
      "                                      ***\n",
      "                                     *****\n",
      "                                    *******\n",
      "                                   *********\n",
      "                                  ***********\n",
      "                                 *************\n",
      "                                ***************\n",
      "                               *****************\n",
      "                              *******************\n",
      "                             *********************\n",
      "                            ***********************\n",
      "                           *************************\n",
      "                          ***************************\n",
      "                         *****************************\n",
      "                        *******************************\n",
      "                       *********************************\n",
      "                      ***********************************\n",
      "                     *************************************\n",
      "                    ***************************************\n",
      "                   *****************************************\n",
      "                  *******************************************\n",
      "                 *********************************************\n",
      "                ***********************************************\n",
      "               *************************************************\n",
      "              ***************************************************\n",
      "             *****************************************************\n",
      "            *******************************************************\n",
      "           *********************************************************\n",
      "          ***********************************************************\n",
      "         *************************************************************\n",
      "        ***************************************************************\n",
      "       *****************************************************************\n",
      "      *******************************************************************\n",
      "     *********************************************************************\n",
      "    ***********************************************************************\n",
      "   *************************************************************************\n",
      "  ***************************************************************************\n",
      " *****************************************************************************\n",
      "*******************************************************************************\n",
      "                                       |\n"
     ]
    }
   ],
   "source": [
    "height = int(input(\"Enter the height of the Christmas tree: \"))\n",
    "\n",
    "for i in range(height):\n",
    "    spaces = ' ' * (height - i - 1)\n",
    "    stars = '*' * (2 * i + 1)\n",
    "    line = spaces + stars\n",
    "    print(line)\n",
    "trunk = ' ' * (height - 1) + '|'\n",
    "print(trunk)\n"
   ]
  },
  {
   "cell_type": "markdown",
   "id": "07f67531",
   "metadata": {},
   "source": [
    "-----------------------------------------------------------------------------\n",
    "# Exercise 10\n",
    "Write a piece of code that prints the first $n$ numbers of the padovan sequence"
   ]
  },
  {
   "cell_type": "code",
   "execution_count": 16,
   "id": "d301c61b",
   "metadata": {},
   "outputs": [
    {
     "name": "stdin",
     "output_type": "stream",
     "text": [
      "Enter the number of Padovan numbers to print:  20\n"
     ]
    },
    {
     "name": "stdout",
     "output_type": "stream",
     "text": [
      "The first 20 numbers of the Padovan sequence are:\n",
      "[1, 1, 1, 2, 2, 3, 4, 5, 7, 9, 12, 16, 21, 28, 37, 49, 65, 86, 114, 151]\n"
     ]
    }
   ],
   "source": [
    "def padovan_sequence(n):\n",
    "    sequence = [1, 1, 1]\n",
    "    for i in range(3, n):\n",
    "        next_value = sequence[i - 2] + sequence[i - 3]\n",
    "        sequence.append(next_value)\n",
    "    \n",
    "    return sequence[:n]\n",
    "n = int(input(\"Enter the number of Padovan numbers to print: \"))\n",
    "\n",
    "padovan_numbers = padovan_sequence(n)\n",
    "print(\"The first\", n, \"numbers of the Padovan sequence are:\")\n",
    "print(padovan_numbers)"
   ]
  },
  {
   "cell_type": "code",
   "execution_count": null,
   "id": "6bcab93d-23b5-4f5c-9202-acd785a238d7",
   "metadata": {},
   "outputs": [],
   "source": []
  }
 ],
 "metadata": {
  "kernelspec": {
   "display_name": "Python 3 (ipykernel)",
   "language": "python",
   "name": "python3"
  },
  "language_info": {
   "codemirror_mode": {
    "name": "ipython",
    "version": 3
   },
   "file_extension": ".py",
   "mimetype": "text/x-python",
   "name": "python",
   "nbconvert_exporter": "python",
   "pygments_lexer": "ipython3",
   "version": "3.12.4"
  }
 },
 "nbformat": 4,
 "nbformat_minor": 5
}
